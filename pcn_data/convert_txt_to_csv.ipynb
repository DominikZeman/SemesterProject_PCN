{
 "cells": [
  {
   "cell_type": "code",
   "execution_count": 2,
   "id": "1b264bc9-6b69-4ab6-abdc-a0dcd22454c2",
   "metadata": {},
   "outputs": [],
   "source": [
    "import re\n",
    "import csv\n",
    "\n",
    "def convert_txt_to_csv(input_files, output_file):\n",
    "    header = ['Epoch', 'Train Loss', 'Train Accuracy', 'Test Loss', 'Test Accuracy']\n",
    "    rows = []\n",
    "\n",
    "    for file_name in input_files:\n",
    "        with open(file_name, 'r') as file:\n",
    "            lines = file.readlines()\n",
    "        \n",
    "        epoch = None\n",
    "        train_loss = train_acc = test_loss = test_acc = None\n",
    "\n",
    "        for line in lines:\n",
    "            # Extract epoch from training settings\n",
    "            match = re.search(r'epoch=(\\d+)', line)\n",
    "            if match:\n",
    "                epoch = int(match.group(1))  # Convert epoch to integer\n",
    "\n",
    "            # Extract training loss and accuracy\n",
    "            match = re.search(r'Training: Epoch=\\d+ \\| Loss: ([\\d.]+) \\|  Acc: ([\\d.]+)%', line)\n",
    "            if match:\n",
    "                train_loss, train_acc = match.groups()\n",
    "\n",
    "            # Extract testing loss and accuracy\n",
    "            match = re.search(r'Testing: Epoch=\\d+ \\| Loss: ([\\d.]+) \\|  Acc: ([\\d.]+)%', line)\n",
    "            if match:\n",
    "                test_loss, test_acc = match.groups()\n",
    "\n",
    "                # Append row only when a full set of data is found\n",
    "                if epoch is not None and train_loss and train_acc and test_loss and test_acc:\n",
    "                    rows.append([epoch, train_loss, f\"tensor({train_acc})\", test_loss, f\"tensor({test_acc})\"])\n",
    "\n",
    "            # Stop at epoch 150\n",
    "            if epoch is not None and epoch >= 150:\n",
    "                break\n",
    "\n",
    "    # Write to CSV file\n",
    "    with open(output_file, 'w', newline='') as csvfile:\n",
    "        writer = csv.writer(csvfile)\n",
    "        writer.writerow(header)\n",
    "        writer.writerows(rows)\n",
    "\n",
    "if __name__ == \"__main__\":\n",
    "    input_files = [\n",
    "        'training_stats_HARPredNetBpD_15CLS_FalseNes_0.001WD_FalseTIED_10REP.txt',\n",
    "        'training_stats_HARPredNetBpD_15CLS_FalseNes_0.001WD_FalseTIED_15REP.txt'\n",
    "    ]\n",
    "    output_file = 'training_metrics_HARPredNetBpD_15CLS_FalseNes_0.001WD_FalseTIED_1REP.csv'\n",
    "\n",
    "    convert_txt_to_csv(input_files, output_file)\n"
   ]
  },
  {
   "cell_type": "code",
   "execution_count": null,
   "id": "cc1a76e7-6ab3-4110-bc0d-a647cbbee7ae",
   "metadata": {},
   "outputs": [],
   "source": []
  }
 ],
 "metadata": {
  "kernelspec": {
   "display_name": "Python 3 (ipykernel)",
   "language": "python",
   "name": "python3"
  },
  "language_info": {
   "codemirror_mode": {
    "name": "ipython",
    "version": 3
   },
   "file_extension": ".py",
   "mimetype": "text/x-python",
   "name": "python",
   "nbconvert_exporter": "python",
   "pygments_lexer": "ipython3",
   "version": "3.12.4"
  }
 },
 "nbformat": 4,
 "nbformat_minor": 5
}
